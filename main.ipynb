{
 "cells": [
  {
   "cell_type": "markdown",
   "id": "53dda593",
   "metadata": {},
   "source": [
    "## Implementing Simple Linear Regression Model"
   ]
  },
  {
   "cell_type": "markdown",
   "id": "68d3c221",
   "metadata": {},
   "source": [
    "#### Importing the libraries"
   ]
  },
  {
   "cell_type": "code",
   "execution_count": 3,
   "id": "959357aa",
   "metadata": {},
   "outputs": [],
   "source": [
    "import numpy as np\n",
    "import pandas as pd\n",
    "import matplotlib.pyplot as plt"
   ]
  },
  {
   "cell_type": "markdown",
   "id": "e2b851ef",
   "metadata": {},
   "source": [
    "#### Importing the dataset"
   ]
  },
  {
   "cell_type": "code",
   "execution_count": 6,
   "id": "628bfb2a",
   "metadata": {},
   "outputs": [],
   "source": [
    "dataset = pd.read_csv('Salary_Data.csv')"
   ]
  },
  {
   "cell_type": "code",
   "execution_count": 7,
   "id": "0576667a",
   "metadata": {},
   "outputs": [
    {
     "name": "stdout",
     "output_type": "stream",
     "text": [
      "<class 'pandas.core.frame.DataFrame'>\n",
      "RangeIndex: 30 entries, 0 to 29\n",
      "Data columns (total 2 columns):\n",
      " #   Column           Non-Null Count  Dtype  \n",
      "---  ------           --------------  -----  \n",
      " 0   YearsExperience  30 non-null     float64\n",
      " 1   Salary           30 non-null     float64\n",
      "dtypes: float64(2)\n",
      "memory usage: 608.0 bytes\n"
     ]
    }
   ],
   "source": [
    "dataset.info()"
   ]
  },
  {
   "cell_type": "code",
   "execution_count": 8,
   "id": "de17dcd6",
   "metadata": {},
   "outputs": [
    {
     "data": {
      "text/html": [
       "<div>\n",
       "<style scoped>\n",
       "    .dataframe tbody tr th:only-of-type {\n",
       "        vertical-align: middle;\n",
       "    }\n",
       "\n",
       "    .dataframe tbody tr th {\n",
       "        vertical-align: top;\n",
       "    }\n",
       "\n",
       "    .dataframe thead th {\n",
       "        text-align: right;\n",
       "    }\n",
       "</style>\n",
       "<table border=\"1\" class=\"dataframe\">\n",
       "  <thead>\n",
       "    <tr style=\"text-align: right;\">\n",
       "      <th></th>\n",
       "      <th>YearsExperience</th>\n",
       "      <th>Salary</th>\n",
       "    </tr>\n",
       "  </thead>\n",
       "  <tbody>\n",
       "    <tr>\n",
       "      <th>0</th>\n",
       "      <td>1.1</td>\n",
       "      <td>39343.0</td>\n",
       "    </tr>\n",
       "    <tr>\n",
       "      <th>1</th>\n",
       "      <td>1.3</td>\n",
       "      <td>46205.0</td>\n",
       "    </tr>\n",
       "    <tr>\n",
       "      <th>2</th>\n",
       "      <td>1.5</td>\n",
       "      <td>37731.0</td>\n",
       "    </tr>\n",
       "    <tr>\n",
       "      <th>3</th>\n",
       "      <td>2.0</td>\n",
       "      <td>43525.0</td>\n",
       "    </tr>\n",
       "    <tr>\n",
       "      <th>4</th>\n",
       "      <td>2.2</td>\n",
       "      <td>39891.0</td>\n",
       "    </tr>\n",
       "  </tbody>\n",
       "</table>\n",
       "</div>"
      ],
      "text/plain": [
       "   YearsExperience   Salary\n",
       "0              1.1  39343.0\n",
       "1              1.3  46205.0\n",
       "2              1.5  37731.0\n",
       "3              2.0  43525.0\n",
       "4              2.2  39891.0"
      ]
     },
     "execution_count": 8,
     "metadata": {},
     "output_type": "execute_result"
    }
   ],
   "source": [
    "dataset.head()"
   ]
  },
  {
   "cell_type": "markdown",
   "id": "9453ebdc",
   "metadata": {},
   "source": [
    "#### Checking null values"
   ]
  },
  {
   "cell_type": "code",
   "execution_count": 11,
   "id": "d5621ccd",
   "metadata": {},
   "outputs": [
    {
     "data": {
      "text/plain": [
       "YearsExperience    0\n",
       "Salary             0\n",
       "dtype: int64"
      ]
     },
     "execution_count": 11,
     "metadata": {},
     "output_type": "execute_result"
    }
   ],
   "source": [
    "dataset.isnull().sum()"
   ]
  },
  {
   "cell_type": "markdown",
   "id": "3d58968f",
   "metadata": {},
   "source": [
    "#### Splitting the dataset into training and testing set"
   ]
  },
  {
   "cell_type": "code",
   "execution_count": 52,
   "id": "a5925368",
   "metadata": {},
   "outputs": [],
   "source": [
    "X = dataset.iloc[:,:-1].values\n",
    "y = dataset.iloc[:,-1:].values"
   ]
  },
  {
   "cell_type": "code",
   "execution_count": 53,
   "id": "1cabd571",
   "metadata": {},
   "outputs": [],
   "source": [
    "from sklearn.model_selection import train_test_split"
   ]
  },
  {
   "cell_type": "code",
   "execution_count": 54,
   "id": "ef6c98e9",
   "metadata": {},
   "outputs": [],
   "source": [
    "X_train, X_test, y_train, y_test = train_test_split(X,y, test_size=0.33, random_state=0)"
   ]
  },
  {
   "cell_type": "markdown",
   "id": "c3f12692",
   "metadata": {},
   "source": [
    "#### Training the simple linear regression model on the training dataset"
   ]
  },
  {
   "cell_type": "code",
   "execution_count": 55,
   "id": "61e411f4",
   "metadata": {},
   "outputs": [],
   "source": [
    "from sklearn.linear_model import LinearRegression"
   ]
  },
  {
   "cell_type": "code",
   "execution_count": 56,
   "id": "cee509a9",
   "metadata": {},
   "outputs": [
    {
     "data": {
      "text/plain": [
       "LinearRegression()"
      ]
     },
     "execution_count": 56,
     "metadata": {},
     "output_type": "execute_result"
    }
   ],
   "source": [
    "regression = LinearRegression()\n",
    "regression.fit(X_train, y_train)"
   ]
  },
  {
   "cell_type": "markdown",
   "id": "011768d6",
   "metadata": {},
   "source": [
    "#### Now, predicting the result on the test dataset"
   ]
  },
  {
   "cell_type": "code",
   "execution_count": 57,
   "id": "faccf1d5",
   "metadata": {},
   "outputs": [],
   "source": [
    "predictions = regression.predict(X_test)"
   ]
  },
  {
   "cell_type": "code",
   "execution_count": 58,
   "id": "02b41eb7",
   "metadata": {},
   "outputs": [
    {
     "data": {
      "text/plain": [
       "array([[ 40835.10590871],\n",
       "       [123079.39940819],\n",
       "       [ 65134.55626083],\n",
       "       [ 63265.36777221],\n",
       "       [115602.64545369],\n",
       "       [108125.8914992 ],\n",
       "       [116537.23969801],\n",
       "       [ 64199.96201652],\n",
       "       [ 76349.68719258],\n",
       "       [100649.1375447 ]])"
      ]
     },
     "execution_count": 58,
     "metadata": {},
     "output_type": "execute_result"
    }
   ],
   "source": [
    "predictions"
   ]
  },
  {
   "cell_type": "markdown",
   "id": "f058a2c5",
   "metadata": {},
   "source": []
  },
  {
   "cell_type": "markdown",
   "id": "03bb8e9b",
   "metadata": {},
   "source": [
    "#### Printng the actual and preicted result side by side:"
   ]
  },
  {
   "cell_type": "code",
   "execution_count": 69,
   "id": "fecb452d",
   "metadata": {},
   "outputs": [
    {
     "name": "stdout",
     "output_type": "stream",
     "text": [
      "So, the actual and the predicted result of the model is: \n",
      " \n",
      " [[ 37731.          40835.10590871]\n",
      " [122391.         123079.39940819]\n",
      " [ 57081.          65134.55626083]\n",
      " [ 63218.          63265.36777221]\n",
      " [116969.         115602.64545369]\n",
      " [109431.         108125.8914992 ]\n",
      " [112635.         116537.23969801]\n",
      " [ 55794.          64199.96201652]\n",
      " [ 83088.          76349.68719258]\n",
      " [101302.         100649.1375447 ]]\n"
     ]
    }
   ],
   "source": [
    "print(f\"So, the actual and the predicted result of the model is: \\n \\n {np.concatenate((y_test, predictions),axis=1)}\")"
   ]
  },
  {
   "cell_type": "markdown",
   "id": "f80ba95e",
   "metadata": {},
   "source": [
    "#### Visualizing the training dataset"
   ]
  },
  {
   "cell_type": "code",
   "execution_count": 89,
   "id": "832f920a",
   "metadata": {},
   "outputs": [
    {
     "data": {
      "image/png": "[encoded data removed]",
      "text/plain": [
       "<Figure size 720x432 with 1 Axes>"
      ]
     },
     "metadata": {
      "needs_background": "light"
     },
     "output_type": "display_data"
    }
   ],
   "source": [
    "plt.rcParams[\"figure.figsize\"] = (10,6)\n",
    "plt.scatter(X_train, y_train, color='green')\n",
    "plt.plot(X_train, regression.predict(X_train), color='red')\n",
    "plt.title('Salray based on years of experience(Training Data)')\n",
    "plt.xlabel('Experience(in years)')\n",
    "plt.ylabel('Salary')\n",
    "plt.show()"
   ]
  },
  {
   "cell_type": "markdown",
   "id": "1f956d06",
   "metadata": {},
   "source": [
    "#### Visualizing the testing data"
   ]
  },
  {
   "cell_type": "code",
   "execution_count": 88,
   "id": "b3808375",
   "metadata": {},
   "outputs": [
    {
     "data": {
      "image/png": "[encoded data removed]",
      "text/plain": [
       "<Figure size 720x432 with 1 Axes>"
      ]
     },
     "metadata": {
      "needs_background": "light"
     },
     "output_type": "display_data"
    }
   ],
   "source": [
    "plt.rcParams[\"figure.figsize\"] = (10,6)\n",
    "plt.scatter(X_test, y_test, color='green')\n",
    "plt.plot(X_train, regression.predict(X_train), color='red')\n",
    "plt.title('Salray based on years of experience(Testing Data)')\n",
    "plt.xlabel('Experience(in years)')\n",
    "plt.ylabel('Salary')\n",
    "plt.show()"
   ]
  },
  {
   "cell_type": "code",
   "execution_count": null,
   "id": "f547b241",
   "metadata": {},
   "outputs": [],
   "source": []
  },
  {
   "cell_type": "code",
   "execution_count": null,
   "id": "0da670a5",
   "metadata": {},
   "outputs": [],
   "source": []
  },
  {
   "cell_type": "code",
   "execution_count": 79,
   "id": "546ebb7d",
   "metadata": {},
   "outputs": [
    {
     "name": "stdout",
     "output_type": "stream",
     "text": [
      "So, if you have 1.2 years of experience then as per the model your salary is: 38031.32\n"
     ]
    }
   ],
   "source": [
    "print(f\"So, if you have 1.2 years of experience then as per the model your salary is: {round(regression.predict([[1.2]])[0][0],2)}\")"
   ]
  },
  {
   "cell_type": "code",
   "execution_count": null,
   "id": "a6ce0ba2",
   "metadata": {},
   "outputs": [],
   "source": []
  }
 ],
 "metadata": {
  "kernelspec": {
   "display_name": "Python 3 (ipykernel)",
   "language": "python",
   "name": "python3"
  },
  "language_info": {
   "codemirror_mode": {
    "name": "ipython",
    "version": 3
   },
   "file_extension": ".py",
   "mimetype": "text/x-python",
   "name": "python",
   "nbconvert_exporter": "python",
   "pygments_lexer": "ipython3",
   "version": "3.9.12"
  }
 },
 "nbformat": 4,
 "nbformat_minor": 5
}
